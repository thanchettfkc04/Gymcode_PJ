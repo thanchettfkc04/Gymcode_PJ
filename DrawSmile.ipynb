{
 "cells": [
  {
   "cell_type": "code",
   "execution_count": 1,
   "id": "466bc0e4",
   "metadata": {},
   "outputs": [],
   "source": [
    "import turtle\n",
    "\n",
    "#define pen size, color\n",
    "turtle.pensize(5)\n",
    "turtle.pencolor(\"Blue\")\n",
    "\n",
    "#draw big circle\n",
    "facesize = 200\n",
    "turtle.penup()\n",
    "turtle.goto(0,-200)\n",
    "turtle.pendown()\n",
    "turtle.circle(facesize)\n",
    "\n",
    "#draw eyes\n",
    "turtle.fillcolor(\"red\")\n",
    "turtle.penup()\n",
    "turtle.goto(-100,50)\n",
    "turtle.pendown()\n",
    "\n",
    "eye_size = 17.5\n",
    "turtle.begin_fill()\n",
    "turtle.circle(eye_size)\n",
    "turtle.end_fill()\n",
    "turtle.penup()\n",
    " \n",
    "turtle.goto(100,50)\n",
    "turtle.pendown()\n",
    "turtle.begin_fill()\n",
    "turtle.circle(eye_size)\n",
    "turtle.end_fill()\n",
    "\n",
    "#draw nose\n",
    "turtle.penup ()\n",
    "turtle.goto(0,50)\n",
    "turtle.pendown()\n",
    "turtle.circle(-70, steps=3)\n",
    "\n",
    "#draw smile\n",
    "# for smile\n",
    "turtle.penup()\n",
    "turtle.goto(-100, -70)\n",
    "turtle.pendown()\n",
    "turtle.right(90)\n",
    "turtle.circle(100,180)\n",
    "turtle.exitonclick()"
   ]
  },
  {
   "cell_type": "code",
   "execution_count": null,
   "id": "f52bd27f",
   "metadata": {},
   "outputs": [],
   "source": []
  }
 ],
 "metadata": {
  "kernelspec": {
   "display_name": "Python 3 (ipykernel)",
   "language": "python",
   "name": "python3"
  },
  "language_info": {
   "codemirror_mode": {
    "name": "ipython",
    "version": 3
   },
   "file_extension": ".py",
   "mimetype": "text/x-python",
   "name": "python",
   "nbconvert_exporter": "python",
   "pygments_lexer": "ipython3",
   "version": "3.9.7"
  }
 },
 "nbformat": 4,
 "nbformat_minor": 5
}
