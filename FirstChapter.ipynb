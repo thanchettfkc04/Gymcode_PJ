{
 "cells": [
  {
   "cell_type": "code",
   "execution_count": 2,
   "id": "f18cba69",
   "metadata": {},
   "outputs": [
    {
     "name": "stdout",
     "output_type": "stream",
     "text": [
      "“CodeGym Online – Hoc lap trinh Python”\n"
     ]
    }
   ],
   "source": [
    "print(\"“CodeGym Online – Hoc lap trinh Python”\")"
   ]
  },
  {
   "cell_type": "code",
   "execution_count": null,
   "id": "ebea4acb",
   "metadata": {},
   "outputs": [],
   "source": []
  }
 ],
 "metadata": {
  "kernelspec": {
   "display_name": "Python 3 (ipykernel)",
   "language": "python",
   "name": "python3"
  },
  "language_info": {
   "codemirror_mode": {
    "name": "ipython",
    "version": 3
   },
   "file_extension": ".py",
   "mimetype": "text/x-python",
   "name": "python",
   "nbconvert_exporter": "python",
   "pygments_lexer": "ipython3",
   "version": "3.9.7"
  }
 },
 "nbformat": 4,
 "nbformat_minor": 5
}
