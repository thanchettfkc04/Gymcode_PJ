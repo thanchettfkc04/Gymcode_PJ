{
 "cells": [
  {
   "cell_type": "code",
   "execution_count": 2,
   "id": "abdf45f5",
   "metadata": {},
   "outputs": [
    {
     "name": "stdout",
     "output_type": "stream",
     "text": [
      "Nhap canh a: 3\n",
      "Nhap canh b: 4\n",
      "Nhap canh c: 5\n",
      " Dien tich tam giac la:  6.0\n"
     ]
    }
   ],
   "source": [
    "import math\n",
    "\n",
    "a = float(input(\"Nhap canh a: \"))\n",
    "b = float(input(\"Nhap canh b: \"))\n",
    "c = float(input(\"Nhap canh c: \"))\n",
    "\n",
    "s = (a + b + c)/ 2\n",
    "area = math.sqrt( s *  (s - a) * (s - b) * (s - c))\n",
    "print(\" Dien tich tam giac la: \", area)"
   ]
  },
  {
   "cell_type": "code",
   "execution_count": null,
   "id": "53a3e8fa",
   "metadata": {},
   "outputs": [],
   "source": []
  }
 ],
 "metadata": {
  "kernelspec": {
   "display_name": "Python 3 (ipykernel)",
   "language": "python",
   "name": "python3"
  },
  "language_info": {
   "codemirror_mode": {
    "name": "ipython",
    "version": 3
   },
   "file_extension": ".py",
   "mimetype": "text/x-python",
   "name": "python",
   "nbconvert_exporter": "python",
   "pygments_lexer": "ipython3",
   "version": "3.9.7"
  }
 },
 "nbformat": 4,
 "nbformat_minor": 5
}
